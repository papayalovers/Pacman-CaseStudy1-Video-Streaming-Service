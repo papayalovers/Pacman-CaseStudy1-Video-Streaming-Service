{
 "cells": [
  {
   "cell_type": "markdown",
   "metadata": {},
   "source": [
    "class Pacflix"
   ]
  },
  {
   "cell_type": "markdown",
   "metadata": {},
   "source": [
    "https://github.com/ihdarsyd/pacflix_2.git"
   ]
  },
  {
   "cell_type": "code",
   "execution_count": 1,
   "metadata": {},
   "outputs": [],
   "source": [
    "from src.user import PacFlix, User"
   ]
  },
  {
   "cell_type": "code",
   "execution_count": 2,
   "metadata": {},
   "outputs": [
    {
     "data": {
      "text/plain": [
       "{'Shandy': ['Basic Plan', 12, 'shandy-1234'],\n",
       " 'Cahya': ['Standard Plan', 24, 'Cahya-abcd'],\n",
       " 'Ana': ['Premium Plan', 5, 'ana-2f9g'],\n",
       " 'Bagus': ['Basic Plan', 11, 'bagus-9f92']}"
      ]
     },
     "execution_count": 2,
     "metadata": {},
     "output_type": "execute_result"
    }
   ],
   "source": [
    "data = PacFlix()\n",
    "\n",
    "data.user_data"
   ]
  },
  {
   "cell_type": "code",
   "execution_count": 3,
   "metadata": {},
   "outputs": [
    {
     "name": "stdout",
     "output_type": "stream",
     "text": [
      "| Basic Plan           | Standard Plan                                          | Premium Plan                                                  | Service           |\n",
      "|----------------------|--------------------------------------------------------|---------------------------------------------------------------|-------------------|\n",
      "| True                 | True                                                   | True                                                          | Streaming         |\n",
      "| True                 | True                                                   | True                                                          | Download          |\n",
      "| True                 | True                                                   | True                                                          | SD                |\n",
      "| False                | True                                                   | True                                                          | HD                |\n",
      "| False                | False                                                  | True                                                          | UHD               |\n",
      "| 1                    | 2                                                      | 4                                                             | Number of Devices |\n",
      "| 3rd party movie only | Basic Plan Content + Sports (F1, Football, Basketball) | Basic Plan + Standard Plan + PacFlix Original Series or Movie | Content           |\n",
      "| 120000               | 160000                                                 | 200000                                                        | Price             |\n"
     ]
    }
   ],
   "source": [
    "data.check_all_plan()"
   ]
  },
  {
   "cell_type": "code",
   "execution_count": 4,
   "metadata": {},
   "outputs": [
    {
     "data": {
      "text/plain": [
       "160000"
      ]
     },
     "execution_count": 4,
     "metadata": {},
     "output_type": "execute_result"
    }
   ],
   "source": [
    "plan_info = [\n",
    "    ['Basic Plan', 'Standard Plan', 'Premium Plan', 'Service'],\n",
    "    [True, True, True, 'Streaming'],\n",
    "    [True, True, True, 'Download'],\n",
    "    [True, True, True, 'SD'],\n",
    "    [False, True, True, 'HD'],\n",
    "    [False, False, True, 'UHD'],\n",
    "    [1, 2, 4, 'Number of Devices'],\n",
    "    ['3rd party movie only', \n",
    "        'Basic Plan Content + Sports (F1, Football, Basketball)', \n",
    "        'Basic Plan + Standard Plan + PacFlix Original Series or Movie', 'Content'],\n",
    "    [120_000, 160_000, 200_000, 'Price']\n",
    "]\n",
    "\n",
    "basic = 'Standard Plan'\n",
    "\n",
    "idx_plan = plan_info[0].index(basic)\n",
    "idx_plan\n",
    "full_basic = [[row[idx_plan] for row in plan_info]]\n",
    "plan_info[-1][idx_plan]"
   ]
  },
  {
   "cell_type": "code",
   "execution_count": 5,
   "metadata": {},
   "outputs": [
    {
     "name": "stdout",
     "output_type": "stream",
     "text": [
      "no\n"
     ]
    },
    {
     "data": {
      "text/plain": [
       "dict_values([['Basic Plan', 12, 'shandy-1234'], ['Standard Plan', 24, 'Cahya-abcd'], ['Premium Plan', 5, 'ana-2f9g'], ['Basic Plan', 11, 'bagus-9f92']])"
      ]
     },
     "execution_count": 5,
     "metadata": {},
     "output_type": "execute_result"
    }
   ],
   "source": [
    "user_data = {\n",
    "    'Shandy' : ['Basic Plan', 12, 'shandy-1234'],\n",
    "    'Cahya' : ['Standard Plan', 24, 'Cahya-abcd'],\n",
    "    'Ana' : ['Premium Plan', 5, 'ana-2f9g'],\n",
    "    'Bagus' : ['Basic Plan', 11, 'bagus-9f92']\n",
    "}\n",
    "\n",
    "if 'bagus' in user_data.values():\n",
    "    print('yes')\n",
    "else:\n",
    "    print('no')\n",
    "\n",
    "user_data.values()"
   ]
  },
  {
   "cell_type": "code",
   "execution_count": 6,
   "metadata": {},
   "outputs": [
    {
     "name": "stdout",
     "output_type": "stream",
     "text": [
      "Halo Shandy, kamu telah berlangganan selama 12 bulan di PacFlix\n"
     ]
    }
   ],
   "source": [
    "user1 = User('Shandy')"
   ]
  },
  {
   "cell_type": "code",
   "execution_count": 7,
   "metadata": {},
   "outputs": [
    {
     "name": "stdout",
     "output_type": "stream",
     "text": [
      "--------------------------------------------\n",
      "| Basic Plan           | Service           |\n",
      "|----------------------|-------------------|\n",
      "| True                 | Streaming         |\n",
      "| True                 | Download          |\n",
      "| True                 | SD                |\n",
      "| False                | HD                |\n",
      "| False                | UHD               |\n",
      "| 1                    | Number of Devices |\n",
      "| 3rd party movie only | Content           |\n",
      "| 120000               | Price             |\n",
      "--------------------------------------------\n",
      "Kamu sedang berlangganan Basic Plan\n",
      "Biaya langganan Rp. 120,000\n"
     ]
    }
   ],
   "source": [
    "user1.check_plan()"
   ]
  },
  {
   "cell_type": "code",
   "execution_count": 8,
   "metadata": {},
   "outputs": [
    {
     "name": "stdout",
     "output_type": "stream",
     "text": [
      "Selamat Anda Telah Terdaftar di PacFlix\n",
      "Kode Refferal Anda adalah teguh-QhDj\n",
      "Silahkan gunakan kode tersebut kepada teman anda untuk mendapatkan potongan 4%!\n",
      "--------------------------------------------------\n"
     ]
    }
   ],
   "source": [
    "user2 = User('Teguh')"
   ]
  },
  {
   "cell_type": "code",
   "execution_count": 9,
   "metadata": {},
   "outputs": [],
   "source": [
    "user2.plan"
   ]
  },
  {
   "cell_type": "code",
   "execution_count": 10,
   "metadata": {},
   "outputs": [
    {
     "name": "stdout",
     "output_type": "stream",
     "text": [
      "Anda belum berlangganan di PacFlix, silahkan langganan terlebih dahulu.\n"
     ]
    }
   ],
   "source": [
    "user2.check_plan()"
   ]
  },
  {
   "cell_type": "code",
   "execution_count": 11,
   "metadata": {},
   "outputs": [
    {
     "name": "stdout",
     "output_type": "stream",
     "text": [
      "Terima Kasih Telah Berlangganan di PacFlix\n"
     ]
    }
   ],
   "source": [
    "user2.subs_plan('Basic Plan')"
   ]
  },
  {
   "cell_type": "code",
   "execution_count": 12,
   "metadata": {},
   "outputs": [
    {
     "data": {
      "text/plain": [
       "{'Shandy': ['Basic Plan', 12, 'shandy-1234'],\n",
       " 'Cahya': ['Standard Plan', 24, 'Cahya-abcd'],\n",
       " 'Ana': ['Premium Plan', 5, 'ana-2f9g'],\n",
       " 'Bagus': ['Basic Plan', 11, 'bagus-9f92'],\n",
       " 'Teguh': ['Basic Plan', 1, 'teguh-QhDj']}"
      ]
     },
     "execution_count": 12,
     "metadata": {},
     "output_type": "execute_result"
    }
   ],
   "source": [
    "user2.user_data"
   ]
  },
  {
   "cell_type": "code",
   "execution_count": 13,
   "metadata": {},
   "outputs": [
    {
     "name": "stdout",
     "output_type": "stream",
     "text": [
      "--------------------------------------------\n",
      "| Basic Plan           | Service           |\n",
      "|----------------------|-------------------|\n",
      "| True                 | Streaming         |\n",
      "| True                 | Download          |\n",
      "| True                 | SD                |\n",
      "| False                | HD                |\n",
      "| False                | UHD               |\n",
      "| 1                    | Number of Devices |\n",
      "| 3rd party movie only | Content           |\n",
      "| 120000               | Price             |\n",
      "--------------------------------------------\n",
      "Kamu sedang berlangganan Basic Plan\n",
      "Biaya langganan setelah diskon Rp. 115,200.0\n"
     ]
    }
   ],
   "source": [
    "user2.check_plan()"
   ]
  },
  {
   "cell_type": "code",
   "execution_count": null,
   "metadata": {},
   "outputs": [],
   "source": []
  }
 ],
 "metadata": {
  "kernelspec": {
   "display_name": "Python 3",
   "language": "python",
   "name": "python3"
  },
  "language_info": {
   "codemirror_mode": {
    "name": "ipython",
    "version": 3
   },
   "file_extension": ".py",
   "mimetype": "text/x-python",
   "name": "python",
   "nbconvert_exporter": "python",
   "pygments_lexer": "ipython3",
   "version": "3.10.12"
  }
 },
 "nbformat": 4,
 "nbformat_minor": 2
}
